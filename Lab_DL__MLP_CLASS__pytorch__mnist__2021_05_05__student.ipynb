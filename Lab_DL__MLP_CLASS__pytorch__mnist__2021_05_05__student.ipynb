{
  "cells": [
    {
      "cell_type": "markdown",
      "metadata": {
        "id": "WpYK9fIlyZCq"
      },
      "source": [
        "# Lab Deep Learning / Multi-Layer Perceptron for classification / in pytorch\n",
        "\n",
        "**Author: geoffroy.peeters@telecom-paris.fr**\n",
        "\n",
        "For any remark or suggestion, please feel free to contact me.\n",
        "\n",
        "Last edit: 2020/04/27 peeters\n",
        "\n",
        "Read the \"introduction to pytorch\" slides first: https://perso.telecom-paristech.fr/gpeeters/doc/pytorch/\n",
        "\n",
        "**Is is recommended that you first perform the ```Lab Deep Learning / Multi-Layer Perceptron for regression / in pytorch``` Lab to understand how to write a Neural Network in pytorch.**\n",
        "\n",
        "\n",
        "## Objective:\n",
        "\n",
        "The objective of this lab is to develop a two hidden layers MLP to perform image **classification**.\n",
        "\n",
        "While the previous Lab ```Lab Deep Learning / Multi-Layer Perceptron for regression / in pytorch``` focused on how to write a Neural Network, the present Lab focuses on managing datasets and splitting training and testing .\n",
        "\n",
        "We will use MNIST for the image dataset.\n",
        "\n",
        "## Your task:\n",
        "\n",
        "You need to add the missing parts in the code (parts between ```# --- START CODE HERE``` and ```# --- END CODE HERE```)\n",
        "\n",
        "## Documentation:\n",
        "- NN: https://pytorch.org/docs/stable/nn.html\n",
        "- Autograd: https://pytorch.org/docs/stable/autograd.html\n",
        "- Optim: https://pytorch.org/docs/stable/optim.html\n"
      ]
    },
    {
      "cell_type": "code",
      "execution_count": 2,
      "metadata": {
        "id": "h6o3NZfNyZCt"
      },
      "outputs": [],
      "source": [
        "import torch\n",
        "import torch.nn as nn\n",
        "import torch.nn.functional as F\n",
        "import torch.optim as optim\n",
        "from torchvision import datasets, transforms\n",
        "import matplotlib.pyplot as plt\n",
        "from torch.utils.data import DataLoader"
      ]
    },
    {
      "cell_type": "markdown",
      "metadata": {
        "id": "Vy7u-IVkyZCu"
      },
      "source": [
        "## Data management\n",
        "\n",
        "It is common to separate the datasets into\n",
        "- a **training** part (used to find the network parameters which minimize the loss)\n",
        "- a **test part** (used to estimate the performances).\n",
        "\n",
        "The training part can itself be further splitted into a training and a validation part (the validation part is then used to fix the hyper-parameters of the system).\n",
        "\n",
        "When performing ```batch gradient descent``` the whole training set is used to compute the gradients (which itself is used for the parameter optimization).\n",
        "However when performing ```stochastic or mini-batch gradient descent``` only a part of the training data is used at each iteration.\n",
        "\n",
        "We therefore needs to write all the necessary code, to get these mini-batches of data, be sure that all data have been seen, potentially randomize the order of appearance of these data and potentially perform some modifications of the data before giving them to the network.\n",
        "\n",
        "Fortunatelly, pytorch has associated to it (but not included in it) a nice package (```torchvision```) which allows to do all that for us.\n",
        "\n",
        "This package allows to perform these process for any datasets but has a pre-tuned method for the ```MNIST```datasets.\n",
        "\n",
        "### Datasets\n",
        "\n",
        "In the following we will us ```datasets.MNIST``` to load the train and test data.\n",
        "\n",
        "We need to tell it to download the data, where to dowload them and if we want the training or the testing part of it.\n",
        "\n",
        "We then tell it if we want to apply some transformations to the data.\n",
        "\n",
        "For this lab, we will transform the data by\n",
        "- 1) transforming them to torch tensors (using ```transforms.ToTensor()```); since by default they are not torch tensors\n",
        "- 2) normalize them to zero mean and unit standard deviation (using ```transforms.Normalize()```).\n",
        "\n",
        "It is of course possible to also apply data augmentation.\n",
        "\n",
        "Since we have several transforms to be performed, we will compose them using ```transforms.Compose([transform1, transform2])```\n",
        "\n",
        "The corresponding datasets is a class which contains the pairs of [input tensors $X$, corresponding ground-truth label $y$].\n",
        "\n",
        "### Dataloader\n",
        "\n",
        "Another nice pytorch facility is the ```Dataloader``` which transforms the dataset to be used as an iterator (i.e. within ```for data in myDataloader: ```).\n",
        "\n",
        "Moreover, ```Dataloader``` allows to specify\n",
        "- how many data will be provided each time it is called (```batch_size```)\n",
        "- if the order of appearance of the data with be random (````shuffle````).\n",
        "\n",
        "We therefore convert our datasets (train and test) to ```DataLoader``` that are directly used as iterator during the iterations (it DataLoader manage directly the mini-batch and shuffling)."
      ]
    },
    {
      "cell_type": "code",
      "execution_count": 7,
      "metadata": {
        "id": "zsSEvakPyZCv"
      },
      "outputs": [
        {
          "name": "stdout",
          "output_type": "stream",
          "text": [
            "Downloading http://yann.lecun.com/exdb/mnist/train-images-idx3-ubyte.gz\n",
            "Downloading http://yann.lecun.com/exdb/mnist/train-images-idx3-ubyte.gz to ./MNIST\\raw\\train-images-idx3-ubyte.gz\n",
            "Failed to download (trying next):\n",
            "HTTP Error 503: Service Unavailable\n",
            "\n",
            "Downloading https://ossci-datasets.s3.amazonaws.com/mnist/train-images-idx3-ubyte.gz\n",
            "Downloading https://ossci-datasets.s3.amazonaws.com/mnist/train-images-idx3-ubyte.gz to ./MNIST\\raw\\train-images-idx3-ubyte.gz\n"
          ]
        },
        {
          "name": "stderr",
          "output_type": "stream",
          "text": [
            "100%|██████████| 9912422/9912422 [00:02<00:00, 3915483.44it/s]\n"
          ]
        },
        {
          "name": "stdout",
          "output_type": "stream",
          "text": [
            "Extracting ./MNIST\\raw\\train-images-idx3-ubyte.gz to ./MNIST\\raw\n",
            "\n",
            "Downloading http://yann.lecun.com/exdb/mnist/train-labels-idx1-ubyte.gz\n",
            "Failed to download (trying next):\n",
            "HTTP Error 503: Service Unavailable\n",
            "\n",
            "Downloading https://ossci-datasets.s3.amazonaws.com/mnist/train-labels-idx1-ubyte.gz\n",
            "Downloading https://ossci-datasets.s3.amazonaws.com/mnist/train-labels-idx1-ubyte.gz to ./MNIST\\raw\\train-labels-idx1-ubyte.gz\n"
          ]
        },
        {
          "name": "stderr",
          "output_type": "stream",
          "text": [
            "100%|██████████| 28881/28881 [00:00<00:00, 284117.99it/s]\n"
          ]
        },
        {
          "name": "stdout",
          "output_type": "stream",
          "text": [
            "Extracting ./MNIST\\raw\\train-labels-idx1-ubyte.gz to ./MNIST\\raw\n",
            "\n",
            "Downloading http://yann.lecun.com/exdb/mnist/t10k-images-idx3-ubyte.gz\n",
            "Failed to download (trying next):\n",
            "HTTP Error 503: Service Unavailable\n",
            "\n",
            "Downloading https://ossci-datasets.s3.amazonaws.com/mnist/t10k-images-idx3-ubyte.gz\n",
            "Downloading https://ossci-datasets.s3.amazonaws.com/mnist/t10k-images-idx3-ubyte.gz to ./MNIST\\raw\\t10k-images-idx3-ubyte.gz\n"
          ]
        },
        {
          "name": "stderr",
          "output_type": "stream",
          "text": [
            "100%|██████████| 1648877/1648877 [00:00<00:00, 1758297.74it/s]\n"
          ]
        },
        {
          "name": "stdout",
          "output_type": "stream",
          "text": [
            "Extracting ./MNIST\\raw\\t10k-images-idx3-ubyte.gz to ./MNIST\\raw\n",
            "\n",
            "Downloading http://yann.lecun.com/exdb/mnist/t10k-labels-idx1-ubyte.gz\n",
            "Failed to download (trying next):\n",
            "HTTP Error 503: Service Unavailable\n",
            "\n",
            "Downloading https://ossci-datasets.s3.amazonaws.com/mnist/t10k-labels-idx1-ubyte.gz\n",
            "Downloading https://ossci-datasets.s3.amazonaws.com/mnist/t10k-labels-idx1-ubyte.gz to ./MNIST\\raw\\t10k-labels-idx1-ubyte.gz\n"
          ]
        },
        {
          "name": "stderr",
          "output_type": "stream",
          "text": [
            "100%|██████████| 4542/4542 [00:00<?, ?it/s]\n"
          ]
        },
        {
          "name": "stdout",
          "output_type": "stream",
          "text": [
            "Extracting ./MNIST\\raw\\t10k-labels-idx1-ubyte.gz to ./MNIST\\raw\n",
            "\n"
          ]
        }
      ],
      "source": [
        "# --- START CODE HERE\n",
        "train_set = datasets.MNIST(root='./',download=True,transform=transforms.Compose([transforms.ToTensor(),transforms.Normalize(0,1)]))\n",
        "train_loader = DataLoader(train_set,batch_size=256,shuffle=True,drop_last=False)\n",
        "test_set = datasets.MNIST(root='./',download=True,train=False,transform=transforms.Compose([transforms.ToTensor(),transforms.Normalize(0,1)]))\n",
        "test_loader = DataLoader(test_set,batch_size=256,shuffle=False,drop_last=False)\n",
        "# --- END CODE HERE"
      ]
    },
    {
      "cell_type": "code",
      "execution_count": 8,
      "metadata": {
        "colab": {
          "base_uri": "https://localhost:8080/",
          "height": 240
        },
        "id": "FFuEXr0tyZCw",
        "outputId": "59ad5329-e7b3-4dd3-f0f7-79bbbcfde7f7"
      },
      "outputs": [
        {
          "name": "stdout",
          "output_type": "stream",
          "text": [
            "dataset type: <class 'torchvision.datasets.mnist.MNIST'>\n",
            "dataset size: 60000\n",
            "X data: torch.Size([1, 28, 28])\n",
            "y data: 5\n"
          ]
        }
      ],
      "source": [
        "print(\"dataset type: {}\".format(type(train_set)))\n",
        "print(\"dataset size: {}\".format(len(train_set)))\n",
        "print(\"X data: {}\".format(train_set[0][0].size()))\n",
        "print(\"y data: {}\".format(train_set[0][1]))"
      ]
    },
    {
      "cell_type": "markdown",
      "metadata": {
        "id": "piAf25dxyZCx"
      },
      "source": [
        "### Display the first 5 data of MNIST dataset."
      ]
    },
    {
      "cell_type": "code",
      "execution_count": 10,
      "metadata": {
        "id": "Jsa2MAEhyZCx"
      },
      "outputs": [
        {
          "data": {
            "image/png": "[encoded data removed]",
            "text/plain": [
              "<Figure size 640x480 with 5 Axes>"
            ]
          },
          "metadata": {},
          "output_type": "display_data"
        }
      ],
      "source": [
        "# ------------------------------------\n",
        "for num in range(0,5):\n",
        "    one_data = next(iter(train_loader))\n",
        "    plt.subplot(1,5,num+1)\n",
        "    plt.imshow(one_data[0][0][0,:,:],cmap='gray')\n",
        "    plt.title(one_data[1][0].item())"
      ]
    },
    {
      "cell_type": "markdown",
      "metadata": {
        "id": "bo6-KX8UyZCy"
      },
      "source": [
        "## Network setting\n",
        "\n",
        "While image classification, is usually performed using Convolutional Neural Networks, we will use here a Multi-Layer-Perceptron (also named ```fully-connected```).\n",
        "For this, we will flatten (i.e. convert the iamge 2D matrix to a 1D vector) the input images.\n",
        "\n",
        "- The input images are of size 28*28 and are converted to vectors of size ```n_in```=784.\n",
        "\n",
        "- The two hidden layers have````n_h1````=500 and ```n_h2```=256 unit/neurons each and ```Relu```activations.\n",
        "\n",
        "- The output are the ```n_out```=10 classes (the 10 digits to be recognized).\n",
        "\n",
        "Since we deal with a muti-class problem (10 classes), the output activations is therefore a ```softmax```.\n",
        "\n",
        "Note that since the ```softmax```output will be given to a ```cross-entropy```, the ```log```et the latter can be directly added to the ```softmax```. This leads to the pytorch function ```F.log_softmax```.\n"
      ]
    },
    {
      "cell_type": "code",
      "execution_count": 11,
      "metadata": {
        "id": "H0uIIQb9yZCy"
      },
      "outputs": [],
      "source": [
        "class Net(nn.Module):\n",
        "    def __init__(self):\n",
        "        n_in = 28*28\n",
        "        n_h1 = 500\n",
        "        n_h2 = 256\n",
        "        n_out = 10\n",
        "        super(Net, self).__init__()\n",
        "        # --- START CODE HERE\n",
        "        self.h1 = nn.Linear(n_in,n_h1)\n",
        "        self.h2 = nn.Linear(n_h1,n_h2)\n",
        "        self.h3 = nn.Linear(n_h2,n_out)\n",
        "        # --- END CODE HERE\n",
        "    def forward(self, x):\n",
        "        # --- START CODE HERE\n",
        "        x = self.h1(x)\n",
        "        x = F.relu(x)\n",
        "        x = self.h2(x)\n",
        "        x = F.relu(x)\n",
        "        x = self.h3(x)\n",
        "        # --- END CODE HERE\n",
        "        return F.log_softmax(x, dim=1)"
      ]
    },
    {
      "cell_type": "markdown",
      "metadata": {
        "id": "x7qcgKFwyZCz"
      },
      "source": [
        "## Defining the train and test functions\n",
        "\n",
        "In the present lab, we distinguish between train and test data.\n",
        "We therefore write\n",
        "- a train function (to learn the network parameters on the train data),\n",
        "- a test function (to evaluate the network's performances on the test data).\n",
        "\n",
        "The ```train``` and ```test```function will perform the computation for a given ```epoch```.\n",
        "The functions therefore only need to ```loop over``` the mini-batches.\n",
        "This is now easy since we defined our ```Dataloader```for train and test.\n",
        "\n",
        "For the train function, for each mini-batch, we  \n",
        "- compute the forward pass by passing the data to the model: haty = model(x)\n",
        "- compute the the loss (the criterion)\n",
        "- putting at zero the gradients of all the parameters of the network (this is important since, by default, pytorch accumulate the gradients over time)\n",
        "- computing the backpropagation (using as before .backward())\n",
        "- performing one step of optimization (using .step())\n",
        "\n",
        "For the train function, we set the model to train mode (```model.train()```). This allows to set some specific behaviours for training (such as activate the dropout).\n",
        "\n",
        "For the test function, we set the model to train mode (```model.eval()```). This allows to set some specific behaviours for training (such as removing the dropout).\n",
        "\n",
        "\n",
        "Since we are dealing with a multi-class problem (10 classes), we will minimize as loss the ```cross-entropy``` (named negative-log-likelihood ```nll_loss```in pytorch).\n",
        "Since ```nll_loss```does not contains the ```log``` we have added it directly to the softmax by using the ```log_softmax```as output activation of our network.\n",
        "\n",
        "Note that we could use the loss from the nn package (```torch.nn.NLLLoss```) it is then a class which needs to be first instanciated.\n",
        "We can also use the same but as a function (```F.nll_loss()```) which can be used directly without instanciating the class."
      ]
    },
    {
      "cell_type": "code",
      "execution_count": 24,
      "metadata": {
        "id": "3dGuPt96yZCz"
      },
      "outputs": [],
      "source": [
        "def train(model, train_loader, optimizer, epoch):\n",
        "    model.train()\n",
        "    for batch_idx, (data, target) in enumerate(train_loader):\n",
        "        # --- START CODE HERE\n",
        "        data = data.reshape((-1,784))\n",
        "        y_pred = model(data)\n",
        "        loss = F.nll_loss(y_pred,target)\n",
        "        optimizer.zero_grad()\n",
        "        loss.backward()\n",
        "        optimizer.step()\n",
        "        # --- END CODE HERE\n",
        "\n",
        "        if batch_idx % 100 == 0:\n",
        "            print('epoch {}, loss {}'.format(epoch, loss.item()))"
      ]
    },
    {
      "cell_type": "code",
      "execution_count": 45,
      "metadata": {
        "id": "zI8QtzV2yZC0"
      },
      "outputs": [],
      "source": [
        "def test(model, test_loader):\n",
        "    model.eval()\n",
        "    test_loss = 0\n",
        "    correct = 0\n",
        "    with torch.no_grad():\n",
        "        for data, target in test_loader:\n",
        "            # --- START CODE HERE\n",
        "            data = data.reshape((-1,784))\n",
        "            y_pred = torch.argmax(model(data),dim=1).to(dtype=torch.float)\n",
        "            test_loss += F.nll_loss(y_pred,target)\n",
        "            correct += torch.sum(y_pred==target)\n",
        "            # --- STOP CODE HERE\n",
        "\n",
        "    test_loss /= len(test_loader.dataset)\n",
        "    correct2 = correct/len(test_loader.dataset)\n",
        "    print('\\nTest set: Average loss: {}, Accuracy: {}\\n'.format(test_loss, correct2))"
      ]
    },
    {
      "cell_type": "markdown",
      "metadata": {
        "id": "9MXQIbcJyZC0"
      },
      "source": [
        "## Looping over epochs\n",
        "\n",
        "\n",
        "We finally define, how we will optimize our parameters by defining an optimizer.\n",
        "We will use here a very simple one: the SGD (```optim.SGD```) with a learning rate of 0.01.\n",
        "\n",
        "At each iteration, we then call the train and the test function."
      ]
    },
    {
      "cell_type": "code",
      "execution_count": 26,
      "metadata": {
        "id": "ofYcX05ZyZC0"
      },
      "outputs": [
        {
          "name": "stdout",
          "output_type": "stream",
          "text": [
            "epoch 1, loss 2.3011200428009033\n",
            "epoch 1, loss 0.8985957503318787\n",
            "epoch 1, loss 0.3761177062988281\n",
            "epoch 2, loss 0.407946914434433\n",
            "epoch 2, loss 0.383601576089859\n",
            "epoch 2, loss 0.37191131711006165\n",
            "epoch 3, loss 0.3399977684020996\n",
            "epoch 3, loss 0.38966724276542664\n",
            "epoch 3, loss 0.2380191683769226\n",
            "epoch 4, loss 0.2829141616821289\n",
            "epoch 4, loss 0.31227052211761475\n",
            "epoch 4, loss 0.17745913565158844\n",
            "epoch 5, loss 0.1376122087240219\n",
            "epoch 5, loss 0.22624437510967255\n",
            "epoch 5, loss 0.25976476073265076\n",
            "epoch 6, loss 0.1302652806043625\n",
            "epoch 6, loss 0.16671599447727203\n",
            "epoch 6, loss 0.15039986371994019\n",
            "epoch 7, loss 0.21133843064308167\n",
            "epoch 7, loss 0.16458909213542938\n",
            "epoch 7, loss 0.12014937400817871\n",
            "epoch 8, loss 0.1231745257973671\n",
            "epoch 8, loss 0.11508232355117798\n",
            "epoch 8, loss 0.13426175713539124\n",
            "epoch 9, loss 0.0772164836525917\n",
            "epoch 9, loss 0.08254281431436539\n",
            "epoch 9, loss 0.12954221665859222\n",
            "epoch 10, loss 0.10885319113731384\n",
            "epoch 10, loss 0.1287728250026703\n",
            "epoch 10, loss 0.09606476128101349\n"
          ]
        }
      ],
      "source": [
        "model = Net()\n",
        "optimizer = optim.SGD(model.parameters(), lr=0.01, momentum=0.9)\n",
        "nb_epoch = 10\n",
        "for epoch in range(1, nb_epoch + 1):\n",
        "        # --- START CODE HERE\n",
        "        train(model,train_loader,optimizer,epoch)\n",
        "        # --- END CODE HERE"
      ]
    },
    {
      "cell_type": "code",
      "execution_count": 46,
      "metadata": {
        "id": "Rmga0J_oyZC1"
      },
      "outputs": [
        {
          "name": "stdout",
          "output_type": "stream",
          "text": [
            "\n",
            "Test set: Average loss: -0.016899999231100082, Accuracy: 0.9649999737739563\n",
            "\n"
          ]
        }
      ],
      "source": [
        "test(model,test_loader)"
      ]
    }
  ],
  "metadata": {
    "colab": {
      "provenance": []
    },
    "kernelspec": {
      "display_name": "Python 3",
      "language": "python",
      "name": "python3"
    },
    "language_info": {
      "codemirror_mode": {
        "name": "ipython",
        "version": 3
      },
      "file_extension": ".py",
      "mimetype": "text/x-python",
      "name": "python",
      "nbconvert_exporter": "python",
      "pygments_lexer": "ipython3",
      "version": "3.11.4"
    },
    "toc": {
      "base_numbering": 1,
      "nav_menu": {},
      "number_sections": true,
      "sideBar": true,
      "skip_h1_title": false,
      "title_cell": "Table of Contents",
      "title_sidebar": "Contents",
      "toc_cell": false,
      "toc_position": {
        "height": "calc(100% - 180px)",
        "left": "10px",
        "top": "150px",
        "width": "165px"
      },
      "toc_section_display": true,
      "toc_window_display": false
    }
  },
  "nbformat": 4,
  "nbformat_minor": 0
}
